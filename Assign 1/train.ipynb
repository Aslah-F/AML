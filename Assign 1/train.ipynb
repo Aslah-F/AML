{
  "nbformat": 4,
  "nbformat_minor": 0,
  "metadata": {
    "colab": {
      "provenance": []
    },
    "kernelspec": {
      "name": "python3",
      "display_name": "Python 3"
    },
    "language_info": {
      "name": "python"
    }
  },
  "cells": [
    {
      "cell_type": "code",
      "source": [
        "%matplotlib inline\n",
        "import matplotlib.pyplot as plt\n",
        "import csv\n",
        "from textblob import TextBlob\n",
        "import pandas as pd\n",
        "import sklearn\n",
        "# import Pickle\n",
        "import numpy as np\n",
        "from sklearn.feature_extraction.text import CountVectorizer, TfidfTransformer\n",
        "from sklearn.naive_bayes import MultinomialNB\n",
        "from sklearn.svm import SVC, LinearSVC\n",
        "from sklearn.metrics import classification_report, f1_score, accuracy_score, confusion_matrix\n",
        "from sklearn.pipeline import Pipeline\n",
        "from sklearn.model_selection import GridSearchCV\n",
        "from sklearn.model_selection import StratifiedKFold, cross_val_score, train_test_split\n",
        "from sklearn.tree import DecisionTreeClassifier\n",
        "from sklearn.model_selection import learning_curve\n",
        "\n",
        "from sklearn.ensemble import RandomForestClassifier"
      ],
      "metadata": {
        "id": "3xRMGFZVLiE3"
      },
      "execution_count": 1,
      "outputs": []
    },
    {
      "cell_type": "code",
      "source": [
        "import nltk\n",
        "nltk.download('punkt')\n",
        "nltk.download('wordnet')"
      ],
      "metadata": {
        "colab": {
          "base_uri": "https://localhost:8080/"
        },
        "id": "N1UwO4hGcta4",
        "outputId": "f706446c-39bc-4644-c4d5-2b0440917a6e"
      },
      "execution_count": 2,
      "outputs": [
        {
          "output_type": "stream",
          "name": "stderr",
          "text": [
            "[nltk_data] Downloading package punkt to /root/nltk_data...\n",
            "[nltk_data]   Package punkt is already up-to-date!\n",
            "[nltk_data] Downloading package wordnet to /root/nltk_data...\n",
            "[nltk_data]   Package wordnet is already up-to-date!\n"
          ]
        },
        {
          "output_type": "execute_result",
          "data": {
            "text/plain": [
              "True"
            ]
          },
          "metadata": {},
          "execution_count": 2
        }
      ]
    },
    {
      "cell_type": "code",
      "source": [
        "emails = pd.read_csv('/content/train.csv')\n",
        "# emails = emails[[\"text\", \"spam\"]]\n",
        "print(emails)"
      ],
      "metadata": {
        "colab": {
          "base_uri": "https://localhost:8080/"
        },
        "id": "f5kSvUjlMEiV",
        "outputId": "ba348dfb-380d-4578-c5f4-22527cfd6d74"
      },
      "execution_count": 3,
      "outputs": [
        {
          "output_type": "stream",
          "name": "stdout",
          "text": [
            "                                                   text  spam\n",
            "0     information  shalesh ,  please , look into it ...     0\n",
            "1     christmas baskets  kevin :  please add the cop...     0\n",
            "2     re : credit rating contact ?  kim ,  i spoke w...     0\n",
            "3     list of teams and projects  vince ,  here is t...     0\n",
            "4     christmas baskets  the christmas baskets have ...     0\n",
            "...                                                 ...   ...\n",
            "3660  re : from vicky windsor  vicky ,  please , sen...     0\n",
            "3661  fw : winston  debbie ,  this is an update on t...     0\n",
            "3662  re : alp presentation  for your information , ...     0\n",
            "3663  re : aiesec polska - eurolds 2000  drogi panie...     0\n",
            "3664  phone numbers  computer support : 713 - 348 - ...     0\n",
            "\n",
            "[3665 rows x 2 columns]\n"
          ]
        }
      ]
    },
    {
      "cell_type": "code",
      "source": [
        "emails.groupby('spam').describe()"
      ],
      "metadata": {
        "colab": {
          "base_uri": "https://localhost:8080/",
          "height": 175
        },
        "id": "NbfYujouRtsP",
        "outputId": "bb5e79d9-a902-4b40-c879-c655ac2614f7"
      },
      "execution_count": 4,
      "outputs": [
        {
          "output_type": "execute_result",
          "data": {
            "text/plain": [
              "      text                                                               \n",
              "     count unique                                                top freq\n",
              "spam                                                                     \n",
              "0     2797   2781  re : contact info  glenn ,  please , contact r...    2\n",
              "1      868    868  largest collection of porn mo \\ / ies ever - x...    1"
            ],
            "text/html": [
              "\n",
              "  <div id=\"df-c4137866-a7d8-4726-a09e-f872efde2734\" class=\"colab-df-container\">\n",
              "    <div>\n",
              "<style scoped>\n",
              "    .dataframe tbody tr th:only-of-type {\n",
              "        vertical-align: middle;\n",
              "    }\n",
              "\n",
              "    .dataframe tbody tr th {\n",
              "        vertical-align: top;\n",
              "    }\n",
              "\n",
              "    .dataframe thead tr th {\n",
              "        text-align: left;\n",
              "    }\n",
              "\n",
              "    .dataframe thead tr:last-of-type th {\n",
              "        text-align: right;\n",
              "    }\n",
              "</style>\n",
              "<table border=\"1\" class=\"dataframe\">\n",
              "  <thead>\n",
              "    <tr>\n",
              "      <th></th>\n",
              "      <th colspan=\"4\" halign=\"left\">text</th>\n",
              "    </tr>\n",
              "    <tr>\n",
              "      <th></th>\n",
              "      <th>count</th>\n",
              "      <th>unique</th>\n",
              "      <th>top</th>\n",
              "      <th>freq</th>\n",
              "    </tr>\n",
              "    <tr>\n",
              "      <th>spam</th>\n",
              "      <th></th>\n",
              "      <th></th>\n",
              "      <th></th>\n",
              "      <th></th>\n",
              "    </tr>\n",
              "  </thead>\n",
              "  <tbody>\n",
              "    <tr>\n",
              "      <th>0</th>\n",
              "      <td>2797</td>\n",
              "      <td>2781</td>\n",
              "      <td>re : contact info  glenn ,  please , contact r...</td>\n",
              "      <td>2</td>\n",
              "    </tr>\n",
              "    <tr>\n",
              "      <th>1</th>\n",
              "      <td>868</td>\n",
              "      <td>868</td>\n",
              "      <td>largest collection of porn mo \\ / ies ever - x...</td>\n",
              "      <td>1</td>\n",
              "    </tr>\n",
              "  </tbody>\n",
              "</table>\n",
              "</div>\n",
              "    <div class=\"colab-df-buttons\">\n",
              "\n",
              "  <div class=\"colab-df-container\">\n",
              "    <button class=\"colab-df-convert\" onclick=\"convertToInteractive('df-c4137866-a7d8-4726-a09e-f872efde2734')\"\n",
              "            title=\"Convert this dataframe to an interactive table.\"\n",
              "            style=\"display:none;\">\n",
              "\n",
              "  <svg xmlns=\"http://www.w3.org/2000/svg\" height=\"24px\" viewBox=\"0 -960 960 960\">\n",
              "    <path d=\"M120-120v-720h720v720H120Zm60-500h600v-160H180v160Zm220 220h160v-160H400v160Zm0 220h160v-160H400v160ZM180-400h160v-160H180v160Zm440 0h160v-160H620v160ZM180-180h160v-160H180v160Zm440 0h160v-160H620v160Z\"/>\n",
              "  </svg>\n",
              "    </button>\n",
              "\n",
              "  <style>\n",
              "    .colab-df-container {\n",
              "      display:flex;\n",
              "      gap: 12px;\n",
              "    }\n",
              "\n",
              "    .colab-df-convert {\n",
              "      background-color: #E8F0FE;\n",
              "      border: none;\n",
              "      border-radius: 50%;\n",
              "      cursor: pointer;\n",
              "      display: none;\n",
              "      fill: #1967D2;\n",
              "      height: 32px;\n",
              "      padding: 0 0 0 0;\n",
              "      width: 32px;\n",
              "    }\n",
              "\n",
              "    .colab-df-convert:hover {\n",
              "      background-color: #E2EBFA;\n",
              "      box-shadow: 0px 1px 2px rgba(60, 64, 67, 0.3), 0px 1px 3px 1px rgba(60, 64, 67, 0.15);\n",
              "      fill: #174EA6;\n",
              "    }\n",
              "\n",
              "    .colab-df-buttons div {\n",
              "      margin-bottom: 4px;\n",
              "    }\n",
              "\n",
              "    [theme=dark] .colab-df-convert {\n",
              "      background-color: #3B4455;\n",
              "      fill: #D2E3FC;\n",
              "    }\n",
              "\n",
              "    [theme=dark] .colab-df-convert:hover {\n",
              "      background-color: #434B5C;\n",
              "      box-shadow: 0px 1px 3px 1px rgba(0, 0, 0, 0.15);\n",
              "      filter: drop-shadow(0px 1px 2px rgba(0, 0, 0, 0.3));\n",
              "      fill: #FFFFFF;\n",
              "    }\n",
              "  </style>\n",
              "\n",
              "    <script>\n",
              "      const buttonEl =\n",
              "        document.querySelector('#df-c4137866-a7d8-4726-a09e-f872efde2734 button.colab-df-convert');\n",
              "      buttonEl.style.display =\n",
              "        google.colab.kernel.accessAllowed ? 'block' : 'none';\n",
              "\n",
              "      async function convertToInteractive(key) {\n",
              "        const element = document.querySelector('#df-c4137866-a7d8-4726-a09e-f872efde2734');\n",
              "        const dataTable =\n",
              "          await google.colab.kernel.invokeFunction('convertToInteractive',\n",
              "                                                    [key], {});\n",
              "        if (!dataTable) return;\n",
              "\n",
              "        const docLinkHtml = 'Like what you see? Visit the ' +\n",
              "          '<a target=\"_blank\" href=https://colab.research.google.com/notebooks/data_table.ipynb>data table notebook</a>'\n",
              "          + ' to learn more about interactive tables.';\n",
              "        element.innerHTML = '';\n",
              "        dataTable['output_type'] = 'display_data';\n",
              "        await google.colab.output.renderOutput(dataTable, element);\n",
              "        const docLink = document.createElement('div');\n",
              "        docLink.innerHTML = docLinkHtml;\n",
              "        element.appendChild(docLink);\n",
              "      }\n",
              "    </script>\n",
              "  </div>\n",
              "\n",
              "\n",
              "<div id=\"df-58a09317-ad80-4a1c-bcfe-7f2a8ae42aac\">\n",
              "  <button class=\"colab-df-quickchart\" onclick=\"quickchart('df-58a09317-ad80-4a1c-bcfe-7f2a8ae42aac')\"\n",
              "            title=\"Suggest charts\"\n",
              "            style=\"display:none;\">\n",
              "\n",
              "<svg xmlns=\"http://www.w3.org/2000/svg\" height=\"24px\"viewBox=\"0 0 24 24\"\n",
              "     width=\"24px\">\n",
              "    <g>\n",
              "        <path d=\"M19 3H5c-1.1 0-2 .9-2 2v14c0 1.1.9 2 2 2h14c1.1 0 2-.9 2-2V5c0-1.1-.9-2-2-2zM9 17H7v-7h2v7zm4 0h-2V7h2v10zm4 0h-2v-4h2v4z\"/>\n",
              "    </g>\n",
              "</svg>\n",
              "  </button>\n",
              "\n",
              "<style>\n",
              "  .colab-df-quickchart {\n",
              "      --bg-color: #E8F0FE;\n",
              "      --fill-color: #1967D2;\n",
              "      --hover-bg-color: #E2EBFA;\n",
              "      --hover-fill-color: #174EA6;\n",
              "      --disabled-fill-color: #AAA;\n",
              "      --disabled-bg-color: #DDD;\n",
              "  }\n",
              "\n",
              "  [theme=dark] .colab-df-quickchart {\n",
              "      --bg-color: #3B4455;\n",
              "      --fill-color: #D2E3FC;\n",
              "      --hover-bg-color: #434B5C;\n",
              "      --hover-fill-color: #FFFFFF;\n",
              "      --disabled-bg-color: #3B4455;\n",
              "      --disabled-fill-color: #666;\n",
              "  }\n",
              "\n",
              "  .colab-df-quickchart {\n",
              "    background-color: var(--bg-color);\n",
              "    border: none;\n",
              "    border-radius: 50%;\n",
              "    cursor: pointer;\n",
              "    display: none;\n",
              "    fill: var(--fill-color);\n",
              "    height: 32px;\n",
              "    padding: 0;\n",
              "    width: 32px;\n",
              "  }\n",
              "\n",
              "  .colab-df-quickchart:hover {\n",
              "    background-color: var(--hover-bg-color);\n",
              "    box-shadow: 0 1px 2px rgba(60, 64, 67, 0.3), 0 1px 3px 1px rgba(60, 64, 67, 0.15);\n",
              "    fill: var(--button-hover-fill-color);\n",
              "  }\n",
              "\n",
              "  .colab-df-quickchart-complete:disabled,\n",
              "  .colab-df-quickchart-complete:disabled:hover {\n",
              "    background-color: var(--disabled-bg-color);\n",
              "    fill: var(--disabled-fill-color);\n",
              "    box-shadow: none;\n",
              "  }\n",
              "\n",
              "  .colab-df-spinner {\n",
              "    border: 2px solid var(--fill-color);\n",
              "    border-color: transparent;\n",
              "    border-bottom-color: var(--fill-color);\n",
              "    animation:\n",
              "      spin 1s steps(1) infinite;\n",
              "  }\n",
              "\n",
              "  @keyframes spin {\n",
              "    0% {\n",
              "      border-color: transparent;\n",
              "      border-bottom-color: var(--fill-color);\n",
              "      border-left-color: var(--fill-color);\n",
              "    }\n",
              "    20% {\n",
              "      border-color: transparent;\n",
              "      border-left-color: var(--fill-color);\n",
              "      border-top-color: var(--fill-color);\n",
              "    }\n",
              "    30% {\n",
              "      border-color: transparent;\n",
              "      border-left-color: var(--fill-color);\n",
              "      border-top-color: var(--fill-color);\n",
              "      border-right-color: var(--fill-color);\n",
              "    }\n",
              "    40% {\n",
              "      border-color: transparent;\n",
              "      border-right-color: var(--fill-color);\n",
              "      border-top-color: var(--fill-color);\n",
              "    }\n",
              "    60% {\n",
              "      border-color: transparent;\n",
              "      border-right-color: var(--fill-color);\n",
              "    }\n",
              "    80% {\n",
              "      border-color: transparent;\n",
              "      border-right-color: var(--fill-color);\n",
              "      border-bottom-color: var(--fill-color);\n",
              "    }\n",
              "    90% {\n",
              "      border-color: transparent;\n",
              "      border-bottom-color: var(--fill-color);\n",
              "    }\n",
              "  }\n",
              "</style>\n",
              "\n",
              "  <script>\n",
              "    async function quickchart(key) {\n",
              "      const quickchartButtonEl =\n",
              "        document.querySelector('#' + key + ' button');\n",
              "      quickchartButtonEl.disabled = true;  // To prevent multiple clicks.\n",
              "      quickchartButtonEl.classList.add('colab-df-spinner');\n",
              "      try {\n",
              "        const charts = await google.colab.kernel.invokeFunction(\n",
              "            'suggestCharts', [key], {});\n",
              "      } catch (error) {\n",
              "        console.error('Error during call to suggestCharts:', error);\n",
              "      }\n",
              "      quickchartButtonEl.classList.remove('colab-df-spinner');\n",
              "      quickchartButtonEl.classList.add('colab-df-quickchart-complete');\n",
              "    }\n",
              "    (() => {\n",
              "      let quickchartButtonEl =\n",
              "        document.querySelector('#df-58a09317-ad80-4a1c-bcfe-7f2a8ae42aac button');\n",
              "      quickchartButtonEl.style.display =\n",
              "        google.colab.kernel.accessAllowed ? 'block' : 'none';\n",
              "    })();\n",
              "  </script>\n",
              "</div>\n",
              "\n",
              "    </div>\n",
              "  </div>\n"
            ]
          },
          "metadata": {},
          "execution_count": 4
        }
      ]
    },
    {
      "cell_type": "code",
      "source": [
        "emails['length'] = emails['text'].map(lambda text: len(text))\n",
        "print(emails.head())"
      ],
      "metadata": {
        "colab": {
          "base_uri": "https://localhost:8080/"
        },
        "id": "lGCR4ZSBSA3U",
        "outputId": "ef09cc1b-bc1c-430c-a1ca-8e42c2867296"
      },
      "execution_count": 5,
      "outputs": [
        {
          "output_type": "stream",
          "name": "stdout",
          "text": [
            "                                                text  spam  length\n",
            "0  information  shalesh ,  please , look into it ...     0    2404\n",
            "1  christmas baskets  kevin :  please add the cop...     0    1198\n",
            "2  re : credit rating contact ?  kim ,  i spoke w...     0     695\n",
            "3  list of teams and projects  vince ,  here is t...     0     791\n",
            "4  christmas baskets  the christmas baskets have ...     0     723\n"
          ]
        }
      ]
    },
    {
      "cell_type": "code",
      "source": [
        "emails.hist(column='length', by='spam', bins=50)"
      ],
      "metadata": {
        "colab": {
          "base_uri": "https://localhost:8080/",
          "height": 507
        },
        "id": "LDM1vGPASPEB",
        "outputId": "bcb6d919-f91f-4ebd-ad9a-c3d84df5ae61"
      },
      "execution_count": 6,
      "outputs": [
        {
          "output_type": "execute_result",
          "data": {
            "text/plain": [
              "array([<Axes: title={'center': '0'}>, <Axes: title={'center': '1'}>],\n",
              "      dtype=object)"
            ]
          },
          "metadata": {},
          "execution_count": 6
        },
        {
          "output_type": "display_data",
          "data": {
            "text/plain": [
              "<Figure size 640x480 with 2 Axes>"
            ],
            "image/png": "[encoded data removed]"
          },
          "metadata": {}
        }
      ]
    },
    {
      "cell_type": "code",
      "source": [
        "def split_into_lemmas(email):\n",
        "    email = email.lower()\n",
        "    words = TextBlob(email).words\n",
        "    # for each word, take its \"base form\" = lemma\n",
        "    return [word.lemma for word in words]\n",
        "\n",
        "emails.text.head().apply(split_into_lemmas)"
      ],
      "metadata": {
        "colab": {
          "base_uri": "https://localhost:8080/"
        },
        "id": "8koSejrybMH1",
        "outputId": "4c7eb8fa-a7a9-49b5-dce2-01eeb0ca6076"
      },
      "execution_count": 7,
      "outputs": [
        {
          "output_type": "execute_result",
          "data": {
            "text/plain": [
              "0    [information, shalesh, please, look, into, it,...\n",
              "1    [christmas, basket, kevin, please, add, the, c...\n",
              "2    [re, credit, rating, contact, kim, i, spoke, w...\n",
              "3    [list, of, team, and, project, vince, here, is...\n",
              "4    [christmas, basket, the, christmas, basket, ha...\n",
              "Name: text, dtype: object"
            ]
          },
          "metadata": {},
          "execution_count": 7
        }
      ]
    },
    {
      "cell_type": "code",
      "source": [
        "bow_transformer = CountVectorizer(analyzer=split_into_lemmas).fit(emails['text'])\n",
        "print(len(bow_transformer.vocabulary_))"
      ],
      "metadata": {
        "colab": {
          "base_uri": "https://localhost:8080/"
        },
        "id": "FjWLixJbdLaO",
        "outputId": "bddf5ad0-39ce-4540-f818-7ef1d4019ef3"
      },
      "execution_count": 8,
      "outputs": [
        {
          "output_type": "stream",
          "name": "stdout",
          "text": [
            "28297\n"
          ]
        }
      ]
    },
    {
      "cell_type": "code",
      "source": [
        "email_last = emails['text'].iloc[-1]\n",
        "print (email_last)"
      ],
      "metadata": {
        "colab": {
          "base_uri": "https://localhost:8080/"
        },
        "id": "1xF_mprkeA_E",
        "outputId": "3118ac49-6945-492b-acd3-a4a1f428b70b"
      },
      "execution_count": 9,
      "outputs": [
        {
          "output_type": "stream",
          "name": "stdout",
          "text": [
            "phone numbers  computer support : 713 - 348 - 8319 ( help with computer connection )  suzanna vazquez : 713 - 348 - 3736 ( copies , etc . )  please let me know if you have any more questions or if i can help in any way .  pamela castro  mba program associate  rice university  713 - 348 - 6223\n"
          ]
        }
      ]
    },
    {
      "cell_type": "code",
      "source": [
        "#checking last email\n",
        "bow_l = bow_transformer.transform([email_last])\n",
        "print (bow_l)\n",
        "print (bow_l.shape)"
      ],
      "metadata": {
        "colab": {
          "base_uri": "https://localhost:8080/"
        },
        "id": "HVmmCr9tgUQz",
        "outputId": "7e7d6e16-d36f-4542-cde3-0bd2fd31efe8"
      },
      "execution_count": 10,
      "outputs": [
        {
          "output_type": "stream",
          "name": "stdout",
          "text": [
            "  (0, 1316)\t3\n",
            "  (0, 1425)\t1\n",
            "  (0, 2111)\t1\n",
            "  (0, 2317)\t3\n",
            "  (0, 2601)\t1\n",
            "  (0, 4077)\t2\n",
            "  (0, 4421)\t1\n",
            "  (0, 6068)\t1\n",
            "  (0, 6231)\t1\n",
            "  (0, 7262)\t2\n",
            "  (0, 7434)\t1\n",
            "  (0, 7691)\t1\n",
            "  (0, 10521)\t1\n",
            "  (0, 12761)\t1\n",
            "  (0, 12889)\t2\n",
            "  (0, 13386)\t1\n",
            "  (0, 13475)\t2\n",
            "  (0, 13676)\t1\n",
            "  (0, 15116)\t1\n",
            "  (0, 15604)\t1\n",
            "  (0, 16632)\t1\n",
            "  (0, 16712)\t1\n",
            "  (0, 17364)\t1\n",
            "  (0, 18295)\t1\n",
            "  (0, 18720)\t1\n",
            "  (0, 19106)\t1\n",
            "  (0, 19648)\t1\n",
            "  (0, 19852)\t1\n",
            "  (0, 20565)\t1\n",
            "  (0, 20982)\t1\n",
            "  (0, 22111)\t1\n",
            "  (0, 24723)\t1\n",
            "  (0, 24820)\t1\n",
            "  (0, 26401)\t1\n",
            "  (0, 26801)\t1\n",
            "  (0, 27306)\t1\n",
            "  (0, 27680)\t1\n",
            "  (0, 28067)\t1\n",
            "(1, 28297)\n"
          ]
        }
      ]
    },
    {
      "cell_type": "code",
      "source": [
        "print (bow_transformer.get_feature_names_out()[1316])\n",
        "print (bow_transformer.get_feature_names_out()[2317])"
      ],
      "metadata": {
        "colab": {
          "base_uri": "https://localhost:8080/"
        },
        "id": "us6QM0vShBEM",
        "outputId": "c0f98fbf-664b-4da7-a4db-c1a40a4c16cd"
      },
      "execution_count": 11,
      "outputs": [
        {
          "output_type": "stream",
          "name": "stdout",
          "text": [
            "348\n",
            "713\n"
          ]
        }
      ]
    },
    {
      "cell_type": "code",
      "source": [
        "emails_bow = bow_transformer.transform(emails['text'])\n",
        "print ('sparse matrix shape:', emails_bow.shape)\n",
        "print ('number of non-zeros:', emails_bow.nnz)\n",
        "print ('sparsity: %.2f%%' % (100.0 * emails_bow.nnz / (emails_bow.shape[0] * emails_bow.shape[1])))"
      ],
      "metadata": {
        "colab": {
          "base_uri": "https://localhost:8080/"
        },
        "id": "MeI9xVDVhdZU",
        "outputId": "d011a333-4bc4-4932-f49e-bbcefe5cdae1"
      },
      "execution_count": 12,
      "outputs": [
        {
          "output_type": "stream",
          "name": "stdout",
          "text": [
            "sparse matrix shape: (3665, 28297)\n",
            "number of non-zeros: 462078\n",
            "sparsity: 0.45%\n"
          ]
        }
      ]
    },
    {
      "cell_type": "code",
      "source": [
        "tfidf_transformer = TfidfTransformer().fit(emails_bow)\n",
        "tfidf_l = tfidf_transformer.transform(bow_l)\n",
        "print(tfidf_l)"
      ],
      "metadata": {
        "colab": {
          "base_uri": "https://localhost:8080/"
        },
        "id": "ciy9eRwrh1bb",
        "outputId": "735376cf-3eb1-4854-a7b9-be7f6f4e55d2"
      },
      "execution_count": 13,
      "outputs": [
        {
          "output_type": "stream",
          "name": "stdout",
          "text": [
            "  (0, 28067)\t0.037405688418395935\n",
            "  (0, 27680)\t0.04608802166163296\n",
            "  (0, 27306)\t0.0935723018739556\n",
            "  (0, 26801)\t0.24174726382471115\n",
            "  (0, 26401)\t0.09771170987453516\n",
            "  (0, 24820)\t0.25383620426265713\n",
            "  (0, 24723)\t0.10607824205565818\n",
            "  (0, 22111)\t0.13127051784940627\n",
            "  (0, 20982)\t0.08572868427500087\n",
            "  (0, 20565)\t0.09835291728983048\n",
            "  (0, 19852)\t0.05077540515638079\n",
            "  (0, 19648)\t0.09262140137143839\n",
            "  (0, 19106)\t0.19581890161660817\n",
            "  (0, 18720)\t0.05879391944992869\n",
            "  (0, 18295)\t0.08850676282950581\n",
            "  (0, 17364)\t0.0756891881648909\n",
            "  (0, 16712)\t0.05693964780276237\n",
            "  (0, 16632)\t0.14311606921608616\n",
            "  (0, 15604)\t0.07325321520335729\n",
            "  (0, 15116)\t0.06589635624742946\n",
            "  (0, 13676)\t0.04011651293546259\n",
            "  (0, 13475)\t0.10352140099622617\n",
            "  (0, 13386)\t0.04332813206294605\n",
            "  (0, 12889)\t0.17428190342322344\n",
            "  (0, 12761)\t0.04527112136516509\n",
            "  (0, 10521)\t0.1122367240304763\n",
            "  (0, 7691)\t0.1033704836840937\n",
            "  (0, 7434)\t0.1693639607098221\n",
            "  (0, 7262)\t0.2551926744203446\n",
            "  (0, 6231)\t0.19003014088896603\n",
            "  (0, 6068)\t0.057883628785348334\n",
            "  (0, 4421)\t0.11410076820244693\n",
            "  (0, 4077)\t0.12891713791912068\n",
            "  (0, 2601)\t0.25383620426265713\n",
            "  (0, 2317)\t0.28217811643514645\n",
            "  (0, 2111)\t0.2030091472936152\n",
            "  (0, 1425)\t0.24174726382471115\n",
            "  (0, 1316)\t0.4830202765069878\n"
          ]
        }
      ]
    },
    {
      "cell_type": "code",
      "source": [
        "emails_tfidf = tfidf_transformer.transform(emails_bow)"
      ],
      "metadata": {
        "id": "8zbIsyoPiIYx"
      },
      "execution_count": 14,
      "outputs": []
    },
    {
      "cell_type": "markdown",
      "source": [
        "## Trial"
      ],
      "metadata": {
        "id": "aavnScuX0Pum"
      }
    },
    {
      "cell_type": "code",
      "source": [
        "%time spam_detector = RandomForestClassifier(max_depth=5, n_estimators=10).fit(emails_tfidf, emails['spam'])"
      ],
      "metadata": {
        "colab": {
          "base_uri": "https://localhost:8080/"
        },
        "id": "1tiDFlKTiDyJ",
        "outputId": "6cdffba8-137d-46ef-ceb1-155de3626356"
      },
      "execution_count": 15,
      "outputs": [
        {
          "output_type": "stream",
          "name": "stdout",
          "text": [
            "CPU times: user 88.2 ms, sys: 2.94 ms, total: 91.1 ms\n",
            "Wall time: 98.8 ms\n"
          ]
        }
      ]
    },
    {
      "cell_type": "code",
      "source": [
        "all_predictions = spam_detector.predict(emails_tfidf)\n",
        "print (all_predictions)"
      ],
      "metadata": {
        "colab": {
          "base_uri": "https://localhost:8080/"
        },
        "id": "z3Lp6SRXiKeO",
        "outputId": "2d838f94-f427-4621-9aa0-a49a901eb443"
      },
      "execution_count": 16,
      "outputs": [
        {
          "output_type": "stream",
          "name": "stdout",
          "text": [
            "[0 0 0 ... 0 0 0]\n"
          ]
        }
      ]
    },
    {
      "cell_type": "code",
      "source": [
        "print ('accuracy', accuracy_score(emails['spam'], all_predictions))\n",
        "print ('confusion matrix\\n', confusion_matrix(emails['spam'], all_predictions))\n",
        "print ('(row=expected, col=predicted)')"
      ],
      "metadata": {
        "colab": {
          "base_uri": "https://localhost:8080/"
        },
        "id": "_RBGRpQviZRm",
        "outputId": "437e132e-ec97-4558-aef9-e890acc24a24"
      },
      "execution_count": 17,
      "outputs": [
        {
          "output_type": "stream",
          "name": "stdout",
          "text": [
            "accuracy 0.8136425648021828\n",
            "confusion matrix\n",
            " [[2797    0]\n",
            " [ 683  185]]\n",
            "(row=expected, col=predicted)\n"
          ]
        }
      ]
    },
    {
      "cell_type": "code",
      "source": [
        "plt.matshow(confusion_matrix(emails['spam'], all_predictions), cmap=plt.cm.binary, interpolation='nearest')\n",
        "plt.title('confusion matrix')\n",
        "plt.colorbar()\n",
        "plt.ylabel('expected label')\n",
        "plt.xlabel('predicted label')"
      ],
      "metadata": {
        "colab": {
          "base_uri": "https://localhost:8080/",
          "height": 443
        },
        "id": "s92Z-hb4iksL",
        "outputId": "f7270237-580f-4ce2-e621-04ae251f9792"
      },
      "execution_count": 18,
      "outputs": [
        {
          "output_type": "execute_result",
          "data": {
            "text/plain": [
              "Text(0.5, 0, 'predicted label')"
            ]
          },
          "metadata": {},
          "execution_count": 18
        },
        {
          "output_type": "display_data",
          "data": {
            "text/plain": [
              "<Figure size 480x480 with 2 Axes>"
            ],
            "image/png": "[encoded data removed]"
          },
          "metadata": {}
        }
      ]
    },
    {
      "cell_type": "code",
      "source": [
        "print (classification_report(emails['spam'], all_predictions))"
      ],
      "metadata": {
        "colab": {
          "base_uri": "https://localhost:8080/"
        },
        "id": "sL2JT0Hoiprr",
        "outputId": "4506ba40-5757-488f-bec3-8bab3eb9788d"
      },
      "execution_count": 19,
      "outputs": [
        {
          "output_type": "stream",
          "name": "stdout",
          "text": [
            "              precision    recall  f1-score   support\n",
            "\n",
            "           0       0.80      1.00      0.89      2797\n",
            "           1       1.00      0.21      0.35       868\n",
            "\n",
            "    accuracy                           0.81      3665\n",
            "   macro avg       0.90      0.61      0.62      3665\n",
            "weighted avg       0.85      0.81      0.76      3665\n",
            "\n"
          ]
        }
      ]
    },
    {
      "cell_type": "markdown",
      "source": [
        "## All Data\n"
      ],
      "metadata": {
        "id": "hSHhoJEljn24"
      }
    },
    {
      "cell_type": "code",
      "source": [
        "train = pd.read_csv(\"train.csv\")\n",
        "val = pd.read_csv(\"validation.csv\")\n",
        "test = pd.read_csv(\"test.csv\")\n",
        "\n",
        "X_train, y_train = train[\"text\"], train[\"spam\"]\n",
        "X_val, y_val = val[\"text\"], val[\"spam\"]\n",
        "X_test, y_test = test[\"text\"], test[\"spam\"]"
      ],
      "metadata": {
        "id": "YyY-w3Pkjk9R"
      },
      "execution_count": 20,
      "outputs": []
    },
    {
      "cell_type": "markdown",
      "source": [
        "## Model 1 (Naïve Bayes)\n"
      ],
      "metadata": {
        "id": "x_4H_DMhjjCf"
      }
    },
    {
      "cell_type": "code",
      "source": [
        "pipeline_nb = Pipeline([\n",
        "    ('bow', CountVectorizer(analyzer=split_into_lemmas)),  # strings to token integer counts\n",
        "    ('tfidf', TfidfTransformer()),  # integer counts to weighted TF-IDF scores\n",
        "    ('classifier', MultinomialNB()),  # train on TF-IDF vectors w/ Naive Bayes classifier\n",
        "])"
      ],
      "metadata": {
        "id": "MqK2E-aZi79U"
      },
      "execution_count": 21,
      "outputs": []
    },
    {
      "cell_type": "code",
      "source": [
        "%time model_nb = pipeline_nb.fit(X_train, y_train)"
      ],
      "metadata": {
        "colab": {
          "base_uri": "https://localhost:8080/"
        },
        "id": "Ely-gte4vx4N",
        "outputId": "f1aaef28-3c03-451a-ae80-cf86e1964e7e"
      },
      "execution_count": 22,
      "outputs": [
        {
          "output_type": "stream",
          "name": "stdout",
          "text": [
            "CPU times: user 20.8 s, sys: 100 ms, total: 20.9 s\n",
            "Wall time: 21.1 s\n"
          ]
        }
      ]
    },
    {
      "cell_type": "code",
      "source": [
        "print(model_nb.score(X_train, y_train))\n",
        "print(model_nb.score(X_val, y_val))"
      ],
      "metadata": {
        "colab": {
          "base_uri": "https://localhost:8080/"
        },
        "id": "L1biwPfrv-fz",
        "outputId": "8b14c1f6-13d2-468e-edd6-43ed1b289c3f"
      },
      "execution_count": 23,
      "outputs": [
        {
          "output_type": "stream",
          "name": "stdout",
          "text": [
            "0.8908594815825375\n",
            "0.8625954198473282\n"
          ]
        }
      ]
    },
    {
      "cell_type": "code",
      "source": [
        "predictions = model_nb.predict(X_test)\n",
        "print (confusion_matrix(y_test, predictions))\n",
        "print (classification_report(y_test, predictions))"
      ],
      "metadata": {
        "colab": {
          "base_uri": "https://localhost:8080/"
        },
        "id": "gtJLrW7svlYW",
        "outputId": "4b47640b-798e-4d14-c60e-b45feeaa95e0"
      },
      "execution_count": 24,
      "outputs": [
        {
          "output_type": "stream",
          "name": "stdout",
          "text": [
            "[[856   0]\n",
            " [182 108]]\n",
            "              precision    recall  f1-score   support\n",
            "\n",
            "           0       0.82      1.00      0.90       856\n",
            "           1       1.00      0.37      0.54       290\n",
            "\n",
            "    accuracy                           0.84      1146\n",
            "   macro avg       0.91      0.69      0.72      1146\n",
            "weighted avg       0.87      0.84      0.81      1146\n",
            "\n"
          ]
        }
      ]
    },
    {
      "cell_type": "markdown",
      "source": [
        "## Model 2 (SVM Classifier)"
      ],
      "metadata": {
        "id": "Aw8HVuxiwpvd"
      }
    },
    {
      "cell_type": "code",
      "source": [
        "pipeline_sv = Pipeline([\n",
        "    ('bow', CountVectorizer(analyzer=split_into_lemmas)),  # strings to token integer counts\n",
        "    ('tfidf', TfidfTransformer()),  # integer counts to weighted TF-IDF scores\n",
        "    ('classifier', SVC()),  # train on TF-IDF vectors w/ SVM classifier\n",
        "])"
      ],
      "metadata": {
        "id": "SITOWZMOwpve"
      },
      "execution_count": 25,
      "outputs": []
    },
    {
      "cell_type": "code",
      "source": [
        "%time model_sv = pipeline_sv.fit(X_train, y_train)"
      ],
      "metadata": {
        "colab": {
          "base_uri": "https://localhost:8080/"
        },
        "outputId": "a38e6ba2-fdf2-4cc7-9741-a3343ee70cce",
        "id": "H9TOT9JTwpve"
      },
      "execution_count": 26,
      "outputs": [
        {
          "output_type": "stream",
          "name": "stdout",
          "text": [
            "CPU times: user 28.6 s, sys: 140 ms, total: 28.8 s\n",
            "Wall time: 29.3 s\n"
          ]
        }
      ]
    },
    {
      "cell_type": "code",
      "source": [
        "print(model_sv.score(X_train, y_train))\n",
        "print(model_sv.score(X_val, y_val))"
      ],
      "metadata": {
        "colab": {
          "base_uri": "https://localhost:8080/"
        },
        "outputId": "b4c45f5c-3c0c-4941-9cbb-7d961d115c7e",
        "id": "S-CH-wwbwpvf"
      },
      "execution_count": 27,
      "outputs": [
        {
          "output_type": "stream",
          "name": "stdout",
          "text": [
            "1.0\n",
            "0.9880043620501636\n"
          ]
        }
      ]
    },
    {
      "cell_type": "code",
      "source": [
        "predictions = model_sv.predict(X_test)\n",
        "print (confusion_matrix(y_test, predictions))\n",
        "print (classification_report(y_test, predictions))"
      ],
      "metadata": {
        "colab": {
          "base_uri": "https://localhost:8080/"
        },
        "outputId": "41857f13-ef4a-49fb-a914-3f3604df07b1",
        "id": "Dk7bX6YEwpvh"
      },
      "execution_count": 28,
      "outputs": [
        {
          "output_type": "stream",
          "name": "stdout",
          "text": [
            "[[854   2]\n",
            " [ 11 279]]\n",
            "              precision    recall  f1-score   support\n",
            "\n",
            "           0       0.99      1.00      0.99       856\n",
            "           1       0.99      0.96      0.98       290\n",
            "\n",
            "    accuracy                           0.99      1146\n",
            "   macro avg       0.99      0.98      0.98      1146\n",
            "weighted avg       0.99      0.99      0.99      1146\n",
            "\n"
          ]
        }
      ]
    },
    {
      "cell_type": "markdown",
      "source": [
        "## Model 3 (Decision Tree)"
      ],
      "metadata": {
        "id": "ojdmU_Whwz_W"
      }
    },
    {
      "cell_type": "code",
      "source": [
        "pipeline_dt = Pipeline([\n",
        "    ('bow', CountVectorizer(analyzer=split_into_lemmas)),  # strings to token integer counts\n",
        "    ('tfidf', TfidfTransformer()),  # integer counts to weighted TF-IDF scores\n",
        "    ('classifier',  DecisionTreeClassifier()),  # train on TF-IDF vectors w/ Naive Bayes classifier\n",
        "])"
      ],
      "metadata": {
        "id": "nby0Ww1awz_o"
      },
      "execution_count": 29,
      "outputs": []
    },
    {
      "cell_type": "code",
      "source": [
        "%time model_dt = pipeline_dt.fit(X_train, y_train)"
      ],
      "metadata": {
        "colab": {
          "base_uri": "https://localhost:8080/"
        },
        "outputId": "4c1cbd1d-7091-4414-ea64-fe4e804c1d95",
        "id": "e4I08Jupwz_p"
      },
      "execution_count": 30,
      "outputs": [
        {
          "output_type": "stream",
          "name": "stdout",
          "text": [
            "CPU times: user 22.2 s, sys: 78.9 ms, total: 22.2 s\n",
            "Wall time: 22.5 s\n"
          ]
        }
      ]
    },
    {
      "cell_type": "code",
      "source": [
        "print(model_dt.score(X_train, y_train))\n",
        "print(model_dt.score(X_val, y_val))"
      ],
      "metadata": {
        "colab": {
          "base_uri": "https://localhost:8080/"
        },
        "outputId": "1411ed2c-1917-45e5-d6c9-40ff0ee5e68e",
        "id": "VoQdr8Nbwz_q"
      },
      "execution_count": 31,
      "outputs": [
        {
          "output_type": "stream",
          "name": "stdout",
          "text": [
            "1.0\n",
            "0.945474372955289\n"
          ]
        }
      ]
    },
    {
      "cell_type": "code",
      "source": [
        "predictions = model_dt.predict(X_test)\n",
        "print (confusion_matrix(y_test, predictions))\n",
        "print (classification_report(y_test, predictions))"
      ],
      "metadata": {
        "colab": {
          "base_uri": "https://localhost:8080/"
        },
        "outputId": "ab20dec1-d49c-4ad1-a5c4-067872a639ab",
        "id": "elkKTVgWwz_r"
      },
      "execution_count": 32,
      "outputs": [
        {
          "output_type": "stream",
          "name": "stdout",
          "text": [
            "[[827  29]\n",
            " [ 33 257]]\n",
            "              precision    recall  f1-score   support\n",
            "\n",
            "           0       0.96      0.97      0.96       856\n",
            "           1       0.90      0.89      0.89       290\n",
            "\n",
            "    accuracy                           0.95      1146\n",
            "   macro avg       0.93      0.93      0.93      1146\n",
            "weighted avg       0.95      0.95      0.95      1146\n",
            "\n"
          ]
        }
      ]
    },
    {
      "cell_type": "markdown",
      "source": [
        "We see that the SVM Classifier `model_sv` performs best on the test data, followed by decision trees, then naïve bayes."
      ],
      "metadata": {
        "id": "4ANz85mPzR6O"
      }
    }
  ]
}