{
  "nbformat": 4,
  "nbformat_minor": 0,
  "metadata": {
    "colab": {
      "provenance": []
    },
    "kernelspec": {
      "name": "python3",
      "display_name": "Python 3"
    },
    "language_info": {
      "name": "python"
    }
  },
  "cells": [
    {
      "cell_type": "code",
      "source": [
        "import pandas as pd\n",
        "import numpy as np\n",
        "\n",
        "df = pd.read_csv(\"/content/emails.csv\")\n",
        "\n",
        "print(df)"
      ],
      "metadata": {
        "colab": {
          "base_uri": "https://localhost:8080/"
        },
        "id": "6A76ED_TI3du",
        "outputId": "e7d2c575-c543-48f7-cc40-c7bf5d3f3197"
      },
      "execution_count": 6,
      "outputs": [
        {
          "output_type": "stream",
          "name": "stdout",
          "text": [
            "                                                   text  spam\n",
            "0     Subject: naturally irresistible your corporate...     1\n",
            "1     Subject: the stock trading gunslinger  fanny i...     1\n",
            "2     Subject: unbelievable new homes made easy  im ...     1\n",
            "3     Subject: 4 color printing special  request add...     1\n",
            "4     Subject: do not have money , get software cds ...     1\n",
            "...                                                 ...   ...\n",
            "5723  Subject: re : research and development charges...     0\n",
            "5724  Subject: re : receipts from visit  jim ,  than...     0\n",
            "5725  Subject: re : enron case study update  wow ! a...     0\n",
            "5726  Subject: re : interest  david ,  please , call...     0\n",
            "5727  Subject: news : aurora 5 . 2 update  aurora ve...     0\n",
            "\n",
            "[5728 rows x 2 columns]\n"
          ]
        }
      ]
    },
    {
      "cell_type": "code",
      "source": [
        "from sklearn.model_selection import train_test_split\n",
        "\n",
        "data = df[\"text\"]\n",
        "labels = df[\"spam\"]\n",
        "\n",
        "X_train, X_test, y_train, y_test = train_test_split(data, labels, test_size=0.2, random_state=42)\n",
        "\n",
        "X_train, X_val, y_train, y_val = train_test_split(X_train, y_train, test_size=0.2, random_state=42)"
      ],
      "metadata": {
        "colab": {
          "base_uri": "https://localhost:8080/"
        },
        "id": "dmQzr-uEITrf",
        "outputId": "cebdbe19-f736-4eb7-ff8f-fe1c4fa3278b"
      },
      "execution_count": 11,
      "outputs": [
        {
          "output_type": "stream",
          "name": "stdout",
          "text": [
            "3169    Subject: request submitted : access request fo...\n",
            "2472    Subject: re : mscf speaker series  kristin gan...\n",
            "28      Subject: 25 mg did thhe trick  ho receivable w...\n",
            "5708    Subject: re : hi vince  hi jeff ,  no problem ...\n",
            "3777    Subject: apex conference 2000 update  apex 200...\n",
            "                              ...                        \n",
            "1975    Subject: colorado  fyi  - - - - - - - - - - - ...\n",
            "4284    Subject: re : ashley baxter - review  neil ,  ...\n",
            "2485    Subject: confirmation of your order  this is a...\n",
            "1887    Subject: hiring of wharton tiger teams members...\n",
            "489     Subject: wall street ' s dirty little secret ....\n",
            "Name: text, Length: 917, dtype: object\n"
          ]
        }
      ]
    },
    {
      "cell_type": "code",
      "source": [
        "X_train"
      ],
      "metadata": {
        "colab": {
          "base_uri": "https://localhost:8080/"
        },
        "id": "xh8esH7JOnYU",
        "outputId": "9e1e3bb2-dda3-4738-c672-eb68d38cabf3"
      },
      "execution_count": 19,
      "outputs": [
        {
          "output_type": "execute_result",
          "data": {
            "text/plain": [
              "2740    Subject: information  shalesh ,  please , look...\n",
              "1875    Subject: christmas baskets  kevin :  please ad...\n",
              "5202    Subject: re : credit rating contact ?  kim ,  ...\n",
              "3327    Subject: list of teams and projects  vince ,  ...\n",
              "2207    Subject: christmas baskets  the christmas bask...\n",
              "                              ...                        \n",
              "5651    Subject: re : from vicky windsor  vicky ,  ple...\n",
              "1662    Subject: fw : winston  debbie ,  this is an up...\n",
              "3093    Subject: re : alp presentation  for your infor...\n",
              "4123    Subject: re : aiesec polska - eurolds 2000  dr...\n",
              "1691    Subject: phone numbers  computer support : 713...\n",
              "Name: text, Length: 3665, dtype: object"
            ]
          },
          "metadata": {},
          "execution_count": 19
        }
      ]
    },
    {
      "cell_type": "code",
      "source": [
        "train_df = pd.DataFrame()\n",
        "train_df[\"text\"] = X_train\n",
        "train_df[\"spam\"] = y_train\n",
        "print(\"TRAIN DATA\")\n",
        "print(train_df, \"\\n\\n\\n\")\n",
        "\n",
        "val_df = pd.DataFrame()\n",
        "val_df[\"text\"] = X_val\n",
        "val_df[\"spam\"] = y_val\n",
        "print(\"VALIDATION DATA\")\n",
        "print(val_df, \"\\n\\n\\n\")\n",
        "\n",
        "test_df = pd.DataFrame()\n",
        "test_df[\"text\"] = X_test\n",
        "test_df[\"spam\"] = y_test\n",
        "print(\"TEST DATA\")\n",
        "print(test_df)"
      ],
      "metadata": {
        "colab": {
          "base_uri": "https://localhost:8080/"
        },
        "id": "n26eck29J7XR",
        "outputId": "9dfbce5e-8a3e-4b82-a1c3-fb1ca26b3ab9"
      },
      "execution_count": 23,
      "outputs": [
        {
          "output_type": "stream",
          "name": "stdout",
          "text": [
            "TRAIN DATA\n",
            "                                                   text  spam\n",
            "2740  Subject: information  shalesh ,  please , look...     0\n",
            "1875  Subject: christmas baskets  kevin :  please ad...     0\n",
            "5202  Subject: re : credit rating contact ?  kim ,  ...     0\n",
            "3327  Subject: list of teams and projects  vince ,  ...     0\n",
            "2207  Subject: christmas baskets  the christmas bask...     0\n",
            "...                                                 ...   ...\n",
            "5651  Subject: re : from vicky windsor  vicky ,  ple...     0\n",
            "1662  Subject: fw : winston  debbie ,  this is an up...     0\n",
            "3093  Subject: re : alp presentation  for your infor...     0\n",
            "4123  Subject: re : aiesec polska - eurolds 2000  dr...     0\n",
            "1691  Subject: phone numbers  computer support : 713...     0\n",
            "\n",
            "[3665 rows x 2 columns] \n",
            "\n",
            "\n",
            "\n",
            "VALIDATION DATA\n",
            "                                                   text  spam\n",
            "3169  Subject: request submitted : access request fo...     0\n",
            "2472  Subject: re : mscf speaker series  kristin gan...     0\n",
            "28    Subject: 25 mg did thhe trick  ho receivable w...     1\n",
            "5708  Subject: re : hi vince  hi jeff ,  no problem ...     0\n",
            "3777  Subject: apex conference 2000 update  apex 200...     0\n",
            "...                                                 ...   ...\n",
            "1975  Subject: colorado  fyi  - - - - - - - - - - - ...     0\n",
            "4284  Subject: re : ashley baxter - review  neil ,  ...     0\n",
            "2485  Subject: confirmation of your order  this is a...     0\n",
            "1887  Subject: hiring of wharton tiger teams members...     0\n",
            "489   Subject: wall street ' s dirty little secret ....     1\n",
            "\n",
            "[917 rows x 2 columns] \n",
            "\n",
            "\n",
            "\n",
            "TEST DATA\n",
            "                                                   text  spam\n",
            "4445  Subject: re : energy derivatives conference - ...     0\n",
            "4118  Subject: financial maths course , part 2  vinc...     0\n",
            "3893  Subject: re : bullet points  please respond to...     0\n",
            "4210  Subject: re : enron default swaps  darrell ,  ...     0\n",
            "5603  Subject: re : power question  steve ,  elena c...     0\n",
            "...                                                 ...   ...\n",
            "3651  Subject: re : the transportion model worked  g...     0\n",
            "1760  Subject: re : new business  h , lyette ,  i am...     0\n",
            "733   Subject: you don _ t know how to get into sear...     1\n",
            "4698  Subject: re : consulting arrangement  thanks v...     0\n",
            "4339  Subject: re : insead high - tech acquisitions ...     0\n",
            "\n",
            "[1146 rows x 2 columns]\n"
          ]
        }
      ]
    },
    {
      "cell_type": "code",
      "source": [
        "def remove_subject(s): #removing the starting \"Subject: \" string\n",
        "    return s[9:]\n",
        "\n",
        "train_df[\"text\"] = train_df[\"text\"].apply(remove_subject)\n",
        "val_df[\"text\"] = val_df[\"text\"].apply(remove_subject)\n",
        "test_df[\"text\"] = test_df[\"text\"].apply(remove_subject)\n",
        "\n",
        "train_df.to_csv(\"train.csv\", index=False)\n",
        "print(\"TRAIN DATA\")\n",
        "print(train_df, \"\\n\\n\\n\")\n",
        "\n",
        "val_df.to_csv(\"validation.csv\", index=False)\n",
        "print(\"VALIDATION DATA\")\n",
        "print(val_df, \"\\n\\n\\n\")\n",
        "\n",
        "test_df.to_csv(\"test.csv\", index=False)\n",
        "print(\"TEST DATA\")\n",
        "print(test_df, \"\\n\\n\\n\")"
      ],
      "metadata": {
        "colab": {
          "base_uri": "https://localhost:8080/"
        },
        "id": "hKWgzp_seZQG",
        "outputId": "561dc39f-d10d-4207-e651-10304196ab12"
      },
      "execution_count": 24,
      "outputs": [
        {
          "output_type": "stream",
          "name": "stdout",
          "text": [
            "TRAIN DATA\n",
            "                                                   text  spam\n",
            "2740  information  shalesh ,  please , look into it ...     0\n",
            "1875  christmas baskets  kevin :  please add the cop...     0\n",
            "5202  re : credit rating contact ?  kim ,  i spoke w...     0\n",
            "3327  list of teams and projects  vince ,  here is t...     0\n",
            "2207  christmas baskets  the christmas baskets have ...     0\n",
            "...                                                 ...   ...\n",
            "5651  re : from vicky windsor  vicky ,  please , sen...     0\n",
            "1662  fw : winston  debbie ,  this is an update on t...     0\n",
            "3093  re : alp presentation  for your information , ...     0\n",
            "4123  re : aiesec polska - eurolds 2000  drogi panie...     0\n",
            "1691  phone numbers  computer support : 713 - 348 - ...     0\n",
            "\n",
            "[3665 rows x 2 columns] \n",
            "\n",
            "\n",
            "\n",
            "VALIDATION DATA\n",
            "                                                   text  spam\n",
            "3169  request submitted : access request for tony . ...     0\n",
            "2472  re : mscf speaker series  kristin gandy is fol...     0\n",
            "28    25 mg did thhe trick  ho receivable w to save ...     1\n",
            "5708  re : hi vince  hi jeff ,  no problem . as soon...     0\n",
            "3777  apex conference 2000 update  apex 2000 is an o...     0\n",
            "...                                                 ...   ...\n",
            "1975  colorado  fyi  - - - - - - - - - - - - - - - -...     0\n",
            "4284  re : ashley baxter - review  neil ,  i shall d...     0\n",
            "2485  confirmation of your order  this is an automat...     0\n",
            "1887  hiring of wharton tiger teams members for summ...     0\n",
            "489   wall street ' s dirty little secret . . .  it ...     1\n",
            "\n",
            "[917 rows x 2 columns] \n",
            "\n",
            "\n",
            "\n",
            "TEST DATA\n",
            "                                                   text  spam\n",
            "4445  re : energy derivatives conference - may 29 , ...     0\n",
            "4118  financial maths course , part 2  vince ,  just...     0\n",
            "3893  re : bullet points  please respond to hi vince...     0\n",
            "4210  re : enron default swaps  darrell ,  i am send...     0\n",
            "5603  re : power question  steve ,  elena chilkina c...     0\n",
            "...                                                 ...   ...\n",
            "3651  re : the transportion model worked  great to h...     0\n",
            "1760  re : new business  h , lyette ,  i am working ...     0\n",
            "733   you don _ t know how to get into search engine...     1\n",
            "4698  re : consulting arrangement  thanks vince - - ...     0\n",
            "4339  re : insead high - tech acquisitions workshop ...     0\n",
            "\n",
            "[1146 rows x 2 columns] \n",
            "\n",
            "\n",
            "\n"
          ]
        }
      ]
    }
  ]
}